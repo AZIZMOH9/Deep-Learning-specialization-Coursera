{
 "cells": [
  {
   "cell_type": "markdown",
   "metadata": {},
   "source": [
    "# Convolutional Neural Networks: Application\n",
    "\n",
    "Welcome to Course 4's second assignment! In this notebook, you will:\n",
    "\n",
    "- Create a mood classifer using the TF Keras Sequential API\n",
    "- Build a ConvNet to identify sign language digits using the TF Keras Functional API\n",
    "\n",
    "**After this assignment you will be able to:**\n",
    "\n",
    "- Build and train a ConvNet in TensorFlow for a __binary__ classification problem\n",
    "- Build and train a ConvNet in TensorFlow for a __multiclass__ classification problem\n",
    "- Explain different use cases for the Sequential and Functional APIs\n",
    "\n",
    "To complete this assignment, you should already be familiar with TensorFlow. If you are not, please refer back to the **TensorFlow Tutorial** of the third week of Course 2 (\"**Improving deep neural networks**\").\n",
    "\n",
    "## Important Note on Submission to the AutoGrader\n",
    "\n",
    "Before submitting your assignment to the AutoGrader, please make sure you are not doing the following:\n",
    "\n",
    "1. You have not added any _extra_ `print` statement(s) in the assignment.\n",
    "2. You have not added any _extra_ code cell(s) in the assignment.\n",
    "3. You have not changed any of the function parameters.\n",
    "4. You are not using any global variables inside your graded exercises. Unless specifically instructed to do so, please refrain from it and use the local variables instead.\n",
    "5. You are not changing the assignment code where it is not required, like creating _extra_ variables.\n",
    "\n",
    "If you do any of the following, you will get something like, `Grader not found` (or similarly unexpected) error upon submitting your assignment. Before asking for help/debugging the errors in your assignment, check for these first. If this is the case, and you don't remember the changes you have made, you can get a fresh copy of the assignment by following these [instructions](https://www.coursera.org/learn/convolutional-neural-networks/supplement/DS4yP/h-ow-to-refresh-your-workspace)."
   ]
  },
  {
   "cell_type": "markdown",
   "metadata": {},
   "source": [
    "## Table of Contents\n",
    "\n",
    "- [1 - Packages](#1)\n",
    "    - [1.1 - Load the Data and Split the Data into Train/Test Sets](#1-1)\n",
    "- [2 - Layers in TF Keras](#2)\n",
    "- [3 - The Sequential API](#3)\n",
    "    - [3.1 - Create the Sequential Model](#3-1)\n",
    "        - [Exercise 1 - happyModel](#ex-1)\n",
    "    - [3.2 - Train and Evaluate the Model](#3-2)\n",
    "- [4 - The Functional API](#4)\n",
    "    - [4.1 - Load the SIGNS Dataset](#4-1)\n",
    "    - [4.2 - Split the Data into Train/Test Sets](#4-2)\n",
    "    - [4.3 - Forward Propagation](#4-3)\n",
    "        - [Exercise 2 - convolutional_model](#ex-2)\n",
    "    - [4.4 - Train the Model](#4-4)\n",
    "- [5 - History Object](#5)\n",
    "- [6 - Bibliography](#6)"
   ]
  },
  {
   "cell_type": "markdown",
   "metadata": {},
   "source": [
    "<a name='1'></a>\n",
    "## 1 - Packages\n",
    "\n",
    "As usual, begin by loading in the packages."
   ]
  },
  {
   "cell_type": "code",
   "execution_count": 1,
   "metadata": {},
   "outputs": [],
   "source": [
    "import math\n",
    "import numpy as np\n",
    "import h5py\n",
    "import matplotlib.pyplot as plt\n",
    "from matplotlib.pyplot import imread\n",
    "import scipy\n",
    "from PIL import Image\n",
    "import pandas as pd\n",
    "import tensorflow as tf\n",
    "import tensorflow.keras.layers as tfl\n",
    "from tensorflow.python.framework import ops\n",
    "from cnn_utils import *\n",
    "from test_utils import summary, comparator\n",
    "\n",
    "%matplotlib inline\n",
    "np.random.seed(1)"
   ]
  },
  {
   "cell_type": "markdown",
   "metadata": {},
   "source": [
    "<a name='1-1'></a>\n",
    "### 1.1 - Load the Data and Split the Data into Train/Test Sets\n",
    "\n",
    "You'll be using the Happy House dataset for this part of the assignment, which contains images of peoples' faces. Your task will be to build a ConvNet that determines whether the people in the images are smiling or not -- because they only get to enter the house if they're smiling!  "
   ]
  },
  {
   "cell_type": "code",
   "execution_count": 2,
   "metadata": {},
   "outputs": [
    {
     "name": "stdout",
     "output_type": "stream",
     "text": [
      "number of training examples = 600\n",
      "number of test examples = 150\n",
      "X_train shape: (600, 64, 64, 3)\n",
      "Y_train shape: (600, 1)\n",
      "X_test shape: (150, 64, 64, 3)\n",
      "Y_test shape: (150, 1)\n"
     ]
    }
   ],
   "source": [
    "X_train_orig, Y_train_orig, X_test_orig, Y_test_orig, classes = load_happy_dataset()\n",
    "\n",
    "# Normalize image vectors\n",
    "X_train = X_train_orig/255.\n",
    "X_test = X_test_orig/255.\n",
    "\n",
    "# Reshape\n",
    "Y_train = Y_train_orig.T\n",
    "Y_test = Y_test_orig.T\n",
    "\n",
    "print (\"number of training examples = \" + str(X_train.shape[0]))\n",
    "print (\"number of test examples = \" + str(X_test.shape[0]))\n",
    "print (\"X_train shape: \" + str(X_train.shape))\n",
    "print (\"Y_train shape: \" + str(Y_train.shape))\n",
    "print (\"X_test shape: \" + str(X_test.shape))\n",
    "print (\"Y_test shape: \" + str(Y_test.shape))"
   ]
  },
  {
   "cell_type": "markdown",
   "metadata": {},
   "source": [
    "You can display the images contained in the dataset. Images are **64x64** pixels in RGB format (3 channels)."
   ]
  },
  {
   "cell_type": "code",
   "execution_count": 3,
   "metadata": {},
   "outputs": [
    {
     "data": {
      "image/png": "[encoded data removed]",
      "text/plain": [
       "<Figure size 432x288 with 1 Axes>"
      ]
     },
     "metadata": {
      "needs_background": "light"
     },
     "output_type": "display_data"
    }
   ],
   "source": [
    "index = 124\n",
    "plt.imshow(X_train_orig[index]) #display sample training image\n",
    "plt.show()"
   ]
  },
  {
   "cell_type": "markdown",
   "metadata": {},
   "source": [
    "<a name='2'></a>\n",
    "## 2 - Layers in TF Keras \n",
    "\n",
    "In the previous assignment, you created layers manually in numpy. In TF Keras, you don't have to write code directly to create layers. Rather, TF Keras has pre-defined layers you can use. \n",
    "\n",
    "When you create a layer in TF Keras, you are creating a function that takes some input and transforms it into an output you can reuse later. Nice and easy! "
   ]
  },
  {
   "cell_type": "markdown",
   "metadata": {},
   "source": [
    "<a name='3'></a>\n",
    "## 3 - The Sequential API\n",
    "\n",
    "In the previous assignment, you built helper functions using `numpy` to understand the mechanics behind convolutional neural networks. Most practical applications of deep learning today are built using programming frameworks, which have many built-in functions you can simply call. Keras is a high-level abstraction built on top of TensorFlow, which allows for even more simplified and optimized model creation and training. \n",
    "\n",
    "For the first part of this assignment, you'll create a model using TF Keras' Sequential API, which allows you to build layer by layer, and is ideal for building models where each layer has **exactly one** input tensor and **one** output tensor. \n",
    "\n",
    "As you'll see, using the Sequential API is simple and straightforward, but is only appropriate for simpler, more straightforward tasks. Later in this notebook you'll spend some time building with a more flexible, powerful alternative: the Functional API. \n",
    " "
   ]
  },
  {
   "cell_type": "markdown",
   "metadata": {},
   "source": [
    "<a name='3-1'></a>\n",
    "### 3.1 - Create the Sequential Model\n",
    "\n",
    "As mentioned earlier, the TensorFlow Keras Sequential API can be used to build simple models with layer operations that proceed in a sequential order. \n",
    "\n",
    "You can also add layers incrementally to a Sequential model with the `.add()` method, or remove them using the `.pop()` method, much like you would in a regular Python list.\n",
    "\n",
    "Actually, you can think of a Sequential model as behaving like a list of layers. Like Python lists, Sequential layers are ordered, and the order in which they are specified matters.  If your model is non-linear or contains layers with multiple inputs or outputs, a Sequential model wouldn't be the right choice!\n",
    "\n",
    "For any layer construction in Keras, you'll need to specify the input shape in advance. This is because in Keras, the shape of the weights is based on the shape of the inputs. The weights are only created when the model first sees some input data. Sequential models can be created by passing a list of layers to the Sequential constructor, like you will do in the next assignment.\n",
    "\n",
    "<a name='ex-1'></a>\n",
    "### Exercise 1 - happyModel\n",
    "\n",
    "Implement the `happyModel` function below to build the following model: `ZEROPAD2D -> CONV2D -> BATCHNORM -> RELU -> MAXPOOL -> FLATTEN -> DENSE`. Take help from [tf.keras.layers](https://www.tensorflow.org/api_docs/python/tf/keras/layers) \n",
    "\n",
    "Also, plug in the following parameters for all the steps:\n",
    "\n",
    " - [ZeroPadding2D](https://www.tensorflow.org/api_docs/python/tf/keras/layers/ZeroPadding2D): padding 3, input shape 64 x 64 x 3\n",
    " - [Conv2D](https://www.tensorflow.org/api_docs/python/tf/keras/layers/Conv2D): Use 32 7x7 filters, stride 1\n",
    " - [BatchNormalization](https://www.tensorflow.org/api_docs/python/tf/keras/layers/BatchNormalization): for axis 3\n",
    " - [ReLU](https://www.tensorflow.org/api_docs/python/tf/keras/layers/ReLU)\n",
    " - [MaxPool2D](https://www.tensorflow.org/api_docs/python/tf/keras/layers/MaxPool2D): Using default parameters\n",
    " - [Flatten](https://www.tensorflow.org/api_docs/python/tf/keras/layers/Flatten) the previous output.\n",
    " - Fully-connected ([Dense](https://www.tensorflow.org/api_docs/python/tf/keras/layers/Dense)) layer: Apply a fully connected layer with 1 neuron and a sigmoid activation. \n",
    " \n",
    " \n",
    " **Hint:**\n",
    " \n",
    " Use **tfl** as shorthand for **tensorflow.keras.layers**"
   ]
  },
  {
   "cell_type": "code",
   "execution_count": 4,
   "metadata": {
    "deletable": false,
    "nbgrader": {
     "cell_type": "code",
     "checksum": "95d28b191f257bdd5b70c7b8952559d5",
     "grade": false,
     "grade_id": "cell-0e56d3fc28b69aec",
     "locked": false,
     "schema_version": 3,
     "solution": true,
     "task": false
    }
   },
   "outputs": [],
   "source": [
    "# GRADED FUNCTION: happyModel\n",
    "\n",
    "def happyModel():\n",
    "    \"\"\"\n",
    "    Implements the forward propagation for the binary classification model:\n",
    "    ZEROPAD2D -> CONV2D -> BATCHNORM -> RELU -> MAXPOOL -> FLATTEN -> DENSE\n",
    "    \n",
    "    Note that for simplicity and grading purposes, you'll hard-code all the values\n",
    "    such as the stride and kernel (filter) sizes. \n",
    "    Normally, functions should take these values as function parameters.\n",
    "    \n",
    "    Arguments:\n",
    "    None\n",
    "\n",
    "    Returns:\n",
    "    model -- TF Keras model (object containing the information for the entire training process) \n",
    "    \"\"\"\n",
    "    model = tf.keras.Sequential([\n",
    "            ## ZeroPadding2D with padding 3, input shape of 64 x 64 x 3\n",
    "            tfl.ZeroPadding2D(padding = 3, input_shape=(64,64,3)),\n",
    "            ## Conv2D with 32 7x7 filters and stride of 1\n",
    "            tfl.Conv2D( filters=32,kernel_size=7),\n",
    "            ## BatchNormalization for axis 3\n",
    "            tfl.BatchNormalization(axis=3),\n",
    "            ## ReLU\n",
    "            tfl.ReLU(),\n",
    "            ## Max Pooling 2D with default parameters\n",
    "            tfl.MaxPooling2D(),\n",
    "            ## Flatten layer\n",
    "            tfl.Flatten(),\n",
    "            ## Dense layer with 1 unit for output & 'sigmoid' activation\n",
    "            tfl.Dense(1,activation=\"sigmoid\")\n",
    "            # YOUR CODE STARTS HERE\n",
    "            \n",
    "            \n",
    "            # YOUR CODE ENDS HERE\n",
    "        ])\n",
    "    \n",
    "    return model"
   ]
  },
  {
   "cell_type": "code",
   "execution_count": 5,
   "metadata": {
    "deletable": false,
    "editable": false,
    "nbgrader": {
     "cell_type": "code",
     "checksum": "8d3575c950e2e78149be2d05d671c80d",
     "grade": true,
     "grade_id": "cell-e3e1046e5c33d775",
     "locked": true,
     "points": 10,
     "schema_version": 3,
     "solution": false,
     "task": false
    }
   },
   "outputs": [
    {
     "name": "stdout",
     "output_type": "stream",
     "text": [
      "['ZeroPadding2D', (None, 70, 70, 3), 0, ((3, 3), (3, 3))]\n",
      "['Conv2D', (None, 64, 64, 32), 4736, 'valid', 'linear', 'GlorotUniform']\n",
      "['BatchNormalization', (None, 64, 64, 32), 128]\n",
      "['ReLU', (None, 64, 64, 32), 0]\n",
      "['MaxPooling2D', (None, 32, 32, 32), 0, (2, 2), (2, 2), 'valid']\n",
      "['Flatten', (None, 32768), 0]\n",
      "['Dense', (None, 1), 32769, 'sigmoid']\n",
      "\u001b[32mAll tests passed!\u001b[0m\n"
     ]
    }
   ],
   "source": [
    "happy_model = happyModel()\n",
    "# Print a summary for each layer\n",
    "for layer in summary(happy_model):\n",
    "    print(layer)\n",
    "    \n",
    "output = [['ZeroPadding2D', (None, 70, 70, 3), 0, ((3, 3), (3, 3))],\n",
    "            ['Conv2D', (None, 64, 64, 32), 4736, 'valid', 'linear', 'GlorotUniform'],\n",
    "            ['BatchNormalization', (None, 64, 64, 32), 128],\n",
    "            ['ReLU', (None, 64, 64, 32), 0],\n",
    "            ['MaxPooling2D', (None, 32, 32, 32), 0, (2, 2), (2, 2), 'valid'],\n",
    "            ['Flatten', (None, 32768), 0],\n",
    "            ['Dense', (None, 1), 32769, 'sigmoid']]\n",
    "    \n",
    "comparator(summary(happy_model), output)"
   ]
  },
  {
   "cell_type": "markdown",
   "metadata": {},
   "source": [
    "#### Expected Output:\n",
    "\n",
    "```\n",
    "['ZeroPadding2D', (None, 70, 70, 3), 0, ((3, 3), (3, 3))]\n",
    "['Conv2D', (None, 64, 64, 32), 4736, 'valid', 'linear', 'GlorotUniform']\n",
    "['BatchNormalization', (None, 64, 64, 32), 128]\n",
    "['ReLU', (None, 64, 64, 32), 0]\n",
    "['MaxPooling2D', (None, 32, 32, 32), 0, (2, 2), (2, 2), 'valid']\n",
    "['Flatten', (None, 32768), 0]\n",
    "['Dense', (None, 1), 32769, 'sigmoid']\n",
    "All tests passed!\n",
    "```"
   ]
  },
  {
   "cell_type": "markdown",
   "metadata": {},
   "source": [
    "Now that your model is created, you can compile it for training with an optimizer and loss of your choice. When the string `accuracy` is specified as a metric, the type of accuracy used will be automatically converted based on the loss function used. This is one of the many optimizations built into TensorFlow that make your life easier! If you'd like to read more on how the compiler operates, check the docs [here](https://www.tensorflow.org/api_docs/python/tf/keras/Model#compile)."
   ]
  },
  {
   "cell_type": "code",
   "execution_count": 6,
   "metadata": {},
   "outputs": [],
   "source": [
    "happy_model.compile(optimizer='adam',\n",
    "                   loss='binary_crossentropy',\n",
    "                   metrics=['accuracy'])"
   ]
  },
  {
   "cell_type": "markdown",
   "metadata": {},
   "source": [
    "It's time to check your model's parameters with the `.summary()` method. This will display the types of layers you have, the shape of the outputs, and how many parameters are in each layer. "
   ]
  },
  {
   "cell_type": "code",
   "execution_count": 7,
   "metadata": {},
   "outputs": [
    {
     "name": "stdout",
     "output_type": "stream",
     "text": [
      "Model: \"sequential\"\n",
      "_________________________________________________________________\n",
      "Layer (type)                 Output Shape              Param #   \n",
      "=================================================================\n",
      "zero_padding2d (ZeroPadding2 (None, 70, 70, 3)         0         \n",
      "_________________________________________________________________\n",
      "conv2d (Conv2D)              (None, 64, 64, 32)        4736      \n",
      "_________________________________________________________________\n",
      "batch_normalization (BatchNo (None, 64, 64, 32)        128       \n",
      "_________________________________________________________________\n",
      "re_lu (ReLU)                 (None, 64, 64, 32)        0         \n",
      "_________________________________________________________________\n",
      "max_pooling2d (MaxPooling2D) (None, 32, 32, 32)        0         \n",
      "_________________________________________________________________\n",
      "flatten (Flatten)            (None, 32768)             0         \n",
      "_________________________________________________________________\n",
      "dense (Dense)                (None, 1)                 32769     \n",
      "=================================================================\n",
      "Total params: 37,633\n",
      "Trainable params: 37,569\n",
      "Non-trainable params: 64\n",
      "_________________________________________________________________\n"
     ]
    }
   ],
   "source": [
    "happy_model.summary()"
   ]
  },
  {
   "cell_type": "markdown",
   "metadata": {},
   "source": [
    "<a name='3-2'></a>\n",
    "### 3.2 - Train and Evaluate the Model\n",
    "\n",
    "After creating the model, compiling it with your choice of optimizer and loss function, and doing a sanity check on its contents, you are now ready to build! \n",
    "\n",
    "Simply call `.fit()` to train. That's it! No need for mini-batching, saving, or complex backpropagation computations. That's all been done for you, as you're using a TensorFlow dataset with the batches specified already. You do have the option to specify epoch number or minibatch size if you like (for example, in the case of an un-batched dataset)."
   ]
  },
  {
   "cell_type": "code",
   "execution_count": 8,
   "metadata": {},
   "outputs": [
    {
     "name": "stdout",
     "output_type": "stream",
     "text": [
      "Epoch 1/10\n",
      "38/38 [==============================] - 4s 108ms/step - loss: 1.1789 - accuracy: 0.7217\n",
      "Epoch 2/10\n",
      "38/38 [==============================] - 4s 100ms/step - loss: 0.2049 - accuracy: 0.9050\n",
      "Epoch 3/10\n",
      "38/38 [==============================] - 4s 97ms/step - loss: 0.1492 - accuracy: 0.9367\n",
      "Epoch 4/10\n",
      "38/38 [==============================] - 4s 100ms/step - loss: 0.1452 - accuracy: 0.9333\n",
      "Epoch 5/10\n",
      "38/38 [==============================] - 4s 102ms/step - loss: 0.1102 - accuracy: 0.9583\n",
      "Epoch 6/10\n",
      "38/38 [==============================] - 4s 103ms/step - loss: 0.1157 - accuracy: 0.9550\n",
      "Epoch 7/10\n",
      "38/38 [==============================] - 4s 102ms/step - loss: 0.1083 - accuracy: 0.9567\n",
      "Epoch 8/10\n",
      "38/38 [==============================] - 4s 103ms/step - loss: 0.1438 - accuracy: 0.9467\n",
      "Epoch 9/10\n",
      "38/38 [==============================] - 4s 102ms/step - loss: 0.1156 - accuracy: 0.9583\n",
      "Epoch 10/10\n",
      "38/38 [==============================] - 4s 100ms/step - loss: 0.0870 - accuracy: 0.9617\n"
     ]
    },
    {
     "data": {
      "text/plain": [
       "<tensorflow.python.keras.callbacks.History at 0x7fb65165ca10>"
      ]
     },
     "execution_count": 8,
     "metadata": {},
     "output_type": "execute_result"
    }
   ],
   "source": [
    "happy_model.fit(X_train, Y_train, epochs=10, batch_size=16)"
   ]
  },
  {
   "cell_type": "markdown",
   "metadata": {},
   "source": [
    "After that completes, just use `.evaluate()` to evaluate against your test set. This function will print the value of the loss function and the performance metrics specified during the compilation of the model. In this case, the `binary_crossentropy` and the `accuracy` respectively."
   ]
  },
  {
   "cell_type": "code",
   "execution_count": 9,
   "metadata": {},
   "outputs": [
    {
     "name": "stdout",
     "output_type": "stream",
     "text": [
      "5/5 [==============================] - 0s 32ms/step - loss: 0.2634 - accuracy: 0.8867\n"
     ]
    },
    {
     "data": {
      "text/plain": [
       "[0.2634417712688446, 0.8866666555404663]"
      ]
     },
     "execution_count": 9,
     "metadata": {},
     "output_type": "execute_result"
    }
   ],
   "source": [
    "happy_model.evaluate(X_test, Y_test)"
   ]
  },
  {
   "cell_type": "markdown",
   "metadata": {},
   "source": [
    "Easy, right? But what if you need to build a model with shared layers, branches, or multiple inputs and outputs? This is where Sequential, with its beautifully simple yet limited functionality, won't be able to help you. \n",
    "\n",
    "Next up: Enter the Functional API, your slightly more complex, highly flexible friend.  "
   ]
  },
  {
   "cell_type": "markdown",
   "metadata": {},
   "source": [
    "<a name='4'></a>\n",
    "## 4 - The Functional API"
   ]
  },
  {
   "cell_type": "markdown",
   "metadata": {},
   "source": [
    "Welcome to the second half of the assignment, where you'll use Keras' flexible [Functional API](https://www.tensorflow.org/guide/keras/functional) to build a ConvNet that can differentiate between 6 sign language digits. \n",
    "\n",
    "The Functional API can handle models with non-linear topology, shared layers, as well as layers with multiple inputs or outputs. Imagine that, where the Sequential API requires the model to move in a linear fashion through its layers, the Functional API allows much more flexibility. Where Sequential is a straight line, a Functional model is a graph, where the nodes of the layers can connect in many more ways than one. \n",
    "\n",
    "In the visual example below, the one possible direction of the movement Sequential model is shown in contrast to a skip connection, which is just one of the many ways a Functional model can be constructed. A skip connection, as you might have guessed, skips some layer in the network and feeds the output to a later layer in the network. Don't worry, you'll be spending more time with skip connections very soon! "
   ]
  },
  {
   "cell_type": "markdown",
   "metadata": {},
   "source": [
    "<img src=\"images/seq_vs_func.png\" style=\"width:350px;height:200px;\">"
   ]
  },
  {
   "cell_type": "markdown",
   "metadata": {},
   "source": [
    "<a name='4-1'></a>\n",
    "### 4.1 - Load the SIGNS Dataset\n",
    "\n",
    "As a reminder, the SIGNS dataset is a collection of 6 signs representing numbers from 0 to 5."
   ]
  },
  {
   "cell_type": "code",
   "execution_count": 10,
   "metadata": {},
   "outputs": [],
   "source": [
    "# Loading the data (signs)\n",
    "X_train_orig, Y_train_orig, X_test_orig, Y_test_orig, classes = load_signs_dataset()"
   ]
  },
  {
   "cell_type": "markdown",
   "metadata": {},
   "source": [
    "<img src=\"images/SIGNS.png\" style=\"width:800px;height:300px;\">\n",
    "\n",
    "The next cell will show you an example of a labelled image in the dataset. Feel free to change the value of `index` below and re-run to see different examples. "
   ]
  },
  {
   "cell_type": "code",
   "execution_count": 11,
   "metadata": {},
   "outputs": [
    {
     "name": "stdout",
     "output_type": "stream",
     "text": [
      "y = 4\n"
     ]
    },
    {
     "data": {
      "image/png": "[encoded data removed]",
      "text/plain": [
       "<Figure size 432x288 with 1 Axes>"
      ]
     },
     "metadata": {
      "needs_background": "light"
     },
     "output_type": "display_data"
    }
   ],
   "source": [
    "# Example of an image from the dataset\n",
    "index = 9\n",
    "plt.imshow(X_train_orig[index])\n",
    "print (\"y = \" + str(np.squeeze(Y_train_orig[:, index])))"
   ]
  },
  {
   "cell_type": "markdown",
   "metadata": {},
   "source": [
    "<a name='4-2'></a>\n",
    "### 4.2 - Split the Data into Train/Test Sets\n",
    "\n",
    "In Course 2, you built a fully-connected network for this dataset. But since this is an image dataset, it is more natural to apply a ConvNet to it.\n",
    "\n",
    "To get started, let's examine the shapes of your data. "
   ]
  },
  {
   "cell_type": "code",
   "execution_count": 12,
   "metadata": {},
   "outputs": [
    {
     "name": "stdout",
     "output_type": "stream",
     "text": [
      "number of training examples = 1080\n",
      "number of test examples = 120\n",
      "X_train shape: (1080, 64, 64, 3)\n",
      "Y_train shape: (1080, 6)\n",
      "X_test shape: (120, 64, 64, 3)\n",
      "Y_test shape: (120, 6)\n"
     ]
    }
   ],
   "source": [
    "X_train = X_train_orig/255.\n",
    "X_test = X_test_orig/255.\n",
    "Y_train = convert_to_one_hot(Y_train_orig, 6).T\n",
    "Y_test = convert_to_one_hot(Y_test_orig, 6).T\n",
    "print (\"number of training examples = \" + str(X_train.shape[0]))\n",
    "print (\"number of test examples = \" + str(X_test.shape[0]))\n",
    "print (\"X_train shape: \" + str(X_train.shape))\n",
    "print (\"Y_train shape: \" + str(Y_train.shape))\n",
    "print (\"X_test shape: \" + str(X_test.shape))\n",
    "print (\"Y_test shape: \" + str(Y_test.shape))"
   ]
  },
  {
   "cell_type": "markdown",
   "metadata": {},
   "source": [
    "<a name='4-3'></a>\n",
    "### 4.3 - Forward Propagation\n",
    "\n",
    "In TensorFlow, there are built-in functions that implement the convolution steps for you. By now, you should be familiar with how TensorFlow builds computational graphs. In the [Functional API](https://www.tensorflow.org/guide/keras/functional), you create a graph of layers. This is what allows such great flexibility.\n",
    "\n",
    "However, the following model could also be defined using the Sequential API since the information flow is on a single line. But don't deviate. What we want you to learn is to use the functional API.\n",
    "\n",
    "Begin building your graph of layers by creating an input node that functions as a callable object:\n",
    "\n",
    "- **input_img = tf.keras.Input(shape=input_shape):** \n",
    "\n",
    "Then, create a new node in the graph of layers by calling a layer on the `input_img` object: \n",
    "\n",
    "- **tf.keras.layers.Conv2D(filters= ... , kernel_size= ... , padding='same')(input_img):** Read the full documentation on [Conv2D](https://www.tensorflow.org/api_docs/python/tf/keras/layers/Conv2D).\n",
    "\n",
    "- **tf.keras.layers.MaxPool2D(pool_size=(f, f), strides=(s, s), padding='same'):** `MaxPool2D()` downsamples your input using a window of size (f, f) and strides of size (s, s) to carry out max pooling over each window.  For max pooling, you usually operate on a single example at a time and a single channel at a time. Read the full documentation on [MaxPool2D](https://www.tensorflow.org/api_docs/python/tf/keras/layers/MaxPool2D).\n",
    "\n",
    "- **tf.keras.layers.ReLU():** computes the elementwise ReLU of Z (which can be any shape). You can read the full documentation on [ReLU](https://www.tensorflow.org/api_docs/python/tf/keras/layers/ReLU).\n",
    "\n",
    "- **tf.keras.layers.Flatten()**: given a tensor \"P\", this function takes each training (or test) example in the batch and flattens it into a 1D vector.  \n",
    "\n",
    "    * If a tensor P has the shape (batch_size,h,w,c), it returns a flattened tensor with shape (batch_size, k), where $k=h \\times w \\times c$.  \"k\" equals the product of all the dimension sizes other than the first dimension.\n",
    "    \n",
    "    * For example, given a tensor with dimensions [100, 2, 3, 4], it flattens the tensor to be of shape [100, 24], where 24 = 2 * 3 * 4.  You can read the full documentation on [Flatten](https://www.tensorflow.org/api_docs/python/tf/keras/layers/Flatten).\n",
    "\n",
    "- **tf.keras.layers.Dense(units= ... , activation='softmax')(F):** given the flattened input F, it returns the output computed using a fully connected layer. You can read the full documentation on [Dense](https://www.tensorflow.org/api_docs/python/tf/keras/layers/Dense).\n",
    "\n",
    "In the last function above (`tf.keras.layers.Dense()`), the fully connected layer automatically initializes weights in the graph and keeps on training them as you train the model. Hence, you did not need to initialize those weights when initializing the parameters.\n",
    "\n",
    "Lastly, before creating the model, you'll need to define the output using the last of the function's compositions (in this example, a Dense layer): \n",
    "\n",
    "- **outputs = tf.keras.layers.Dense(units=6, activation='softmax')(F)**\n",
    "\n",
    "\n",
    "#### Window, kernel, filter, pool\n",
    "\n",
    "The words \"kernel\" and \"filter\" are used to refer to the same thing. The word \"filter\" accounts for the amount of \"kernels\" that will be used in a single convolution layer. \"Pool\" is the name of the operation that takes the max or average value of the kernels. \n",
    "\n",
    "This is why the parameter `pool_size` refers to `kernel_size`, and you use `(f,f)` to refer to the filter size. \n",
    "\n",
    "Pool size and kernel size refer to the same thing in different objects - They refer to the shape of the window where the operation takes place. "
   ]
  },
  {
   "cell_type": "markdown",
   "metadata": {},
   "source": [
    "<a name='ex-2'></a>\n",
    "### Exercise 2 - convolutional_model\n",
    "\n",
    "Implement the `convolutional_model` function below to build the following model: `CONV2D -> RELU -> MAXPOOL -> CONV2D -> RELU -> MAXPOOL -> FLATTEN -> DENSE`. Use the functions above! \n",
    "\n",
    "Also, plug in the following parameters for all the steps:\n",
    "\n",
    " - [Conv2D](https://www.tensorflow.org/api_docs/python/tf/keras/layers/Conv2D): Use 8 4 by 4 filters, stride 1, padding is \"SAME\"\n",
    " - [ReLU](https://www.tensorflow.org/api_docs/python/tf/keras/layers/ReLU)\n",
    " - [MaxPool2D](https://www.tensorflow.org/api_docs/python/tf/keras/layers/MaxPool2D): Use an 8 by 8 filter size and an 8 by 8 stride, padding is \"SAME\"\n",
    " - **Conv2D**: Use 16 2 by 2 filters, stride 1, padding is \"SAME\"\n",
    " - **ReLU**\n",
    " - **MaxPool2D**: Use a 4 by 4 filter size and a 4 by 4 stride, padding is \"SAME\"\n",
    " - [Flatten](https://www.tensorflow.org/api_docs/python/tf/keras/layers/Flatten) the previous output.\n",
    " - Fully-connected ([Dense](https://www.tensorflow.org/api_docs/python/tf/keras/layers/Dense)) layer: Apply a fully connected layer with 6 neurons and a softmax activation. "
   ]
  },
  {
   "cell_type": "code",
   "execution_count": 13,
   "metadata": {
    "deletable": false,
    "nbgrader": {
     "cell_type": "code",
     "checksum": "f58643806aa8380c96225fc8b4c5e7aa",
     "grade": false,
     "grade_id": "cell-dac51744a9e03f51",
     "locked": false,
     "schema_version": 3,
     "solution": true,
     "task": false
    }
   },
   "outputs": [],
   "source": [
    "# GRADED FUNCTION: convolutional_model\n",
    "\n",
    "def convolutional_model(input_shape):\n",
    "    \"\"\"\n",
    "    Implements the forward propagation for the model:\n",
    "    CONV2D -> RELU -> MAXPOOL -> CONV2D -> RELU -> MAXPOOL -> FLATTEN -> DENSE\n",
    "    \n",
    "    Note that for simplicity and grading purposes, you'll hard-code some values\n",
    "    such as the stride and kernel (filter) sizes. \n",
    "    Normally, functions should take these values as function parameters.\n",
    "    \n",
    "    Arguments:\n",
    "    input_img -- input dataset, of shape (input_shape)\n",
    "\n",
    "    Returns:\n",
    "    model -- TF Keras model (object containing the information for the entire training process) \n",
    "    \"\"\"\n",
    "\n",
    "    input_img = tf.keras.Input(shape=input_shape)\n",
    "    ## CONV2D: 8 filters 4x4, stride of 1, padding 'SAME'\n",
    "    # Z1 = None\n",
    "    ## RELU\n",
    "    # A1 = None\n",
    "    ## MAXPOOL: window 8x8, stride 8, padding 'SAME'\n",
    "    # P1 = None\n",
    "    ## CONV2D: 16 filters 2x2, stride 1, padding 'SAME'\n",
    "    # Z2 = None\n",
    "    ## RELU\n",
    "    # A2 = None\n",
    "    ## MAXPOOL: window 4x4, stride 4, padding 'SAME'\n",
    "    # P2 = None\n",
    "    ## FLATTEN\n",
    "    # F = None\n",
    "    ## Dense layer\n",
    "    ## 6 neurons in output layer. Hint: one of the arguments should be \"activation='softmax'\" \n",
    "    # outputs = None\n",
    "    # YOUR CODE STARTS HERE\n",
    "    Z1 =tf.keras.layers.Conv2D(filters=8,kernel_size=4,strides = 1,padding='SAME')(input_img)\n",
    "    A1 =tf.keras.layers.ReLU()(Z1)\n",
    "\n",
    "    P1 =tf.keras.layers.MaxPooling2D(pool_size=(8, 8),\n",
    "    strides=8,\n",
    "    padding='SAME')(A1)\n",
    "    Z2 =tf.keras.layers.Conv2D(filters=16,kernel_size=2,strides = 1,padding='SAME')(P1)\n",
    "    A2 =tf.keras.layers.ReLU()(Z2)\n",
    "    P2 =tf.keras.layers.MaxPooling2D(pool_size=(4, 4),strides=4,\n",
    "    padding='SAME')(A2)\n",
    "    F =tf.keras.layers.Flatten()(P2)\n",
    "    outputs =tf.keras.layers.Dense(units = 6, activation = \"softmax\")(F)\n",
    "    # YOUR CODE ENDS HERE\n",
    "    model = tf.keras.Model(inputs=input_img, outputs=outputs)\n",
    "    return model"
   ]
  },
  {
   "cell_type": "code",
   "execution_count": 14,
   "metadata": {
    "deletable": false,
    "editable": false,
    "nbgrader": {
     "cell_type": "code",
     "checksum": "483d626949930a0b0ef20997e7c6ba72",
     "grade": true,
     "grade_id": "cell-45d22e92042174c9",
     "locked": true,
     "points": 10,
     "schema_version": 3,
     "solution": false,
     "task": false
    }
   },
   "outputs": [
    {
     "name": "stdout",
     "output_type": "stream",
     "text": [
      "Model: \"functional_1\"\n",
      "_________________________________________________________________\n",
      "Layer (type)                 Output Shape              Param #   \n",
      "=================================================================\n",
      "input_1 (InputLayer)         [(None, 64, 64, 3)]       0         \n",
      "_________________________________________________________________\n",
      "conv2d_1 (Conv2D)            (None, 64, 64, 8)         392       \n",
      "_________________________________________________________________\n",
      "re_lu_1 (ReLU)               (None, 64, 64, 8)         0         \n",
      "_________________________________________________________________\n",
      "max_pooling2d_1 (MaxPooling2 (None, 8, 8, 8)           0         \n",
      "_________________________________________________________________\n",
      "conv2d_2 (Conv2D)            (None, 8, 8, 16)          528       \n",
      "_________________________________________________________________\n",
      "re_lu_2 (ReLU)               (None, 8, 8, 16)          0         \n",
      "_________________________________________________________________\n",
      "max_pooling2d_2 (MaxPooling2 (None, 2, 2, 16)          0         \n",
      "_________________________________________________________________\n",
      "flatten_1 (Flatten)          (None, 64)                0         \n",
      "_________________________________________________________________\n",
      "dense_1 (Dense)              (None, 6)                 390       \n",
      "=================================================================\n",
      "Total params: 1,310\n",
      "Trainable params: 1,310\n",
      "Non-trainable params: 0\n",
      "_________________________________________________________________\n",
      "\u001b[32mAll tests passed!\u001b[0m\n"
     ]
    }
   ],
   "source": [
    "conv_model = convolutional_model((64, 64, 3))\n",
    "conv_model.compile(optimizer='adam',\n",
    "                  loss='categorical_crossentropy',\n",
    "                  metrics=['accuracy'])\n",
    "conv_model.summary()\n",
    "    \n",
    "output = [['InputLayer', [(None, 64, 64, 3)], 0],\n",
    "        ['Conv2D', (None, 64, 64, 8), 392, 'same', 'linear', 'GlorotUniform'],\n",
    "        ['ReLU', (None, 64, 64, 8), 0],\n",
    "        ['MaxPooling2D', (None, 8, 8, 8), 0, (8, 8), (8, 8), 'same'],\n",
    "        ['Conv2D', (None, 8, 8, 16), 528, 'same', 'linear', 'GlorotUniform'],\n",
    "        ['ReLU', (None, 8, 8, 16), 0],\n",
    "        ['MaxPooling2D', (None, 2, 2, 16), 0, (4, 4), (4, 4), 'same'],\n",
    "        ['Flatten', (None, 64), 0],\n",
    "        ['Dense', (None, 6), 390, 'softmax']]\n",
    "    \n",
    "comparator(summary(conv_model), output)"
   ]
  },
  {
   "cell_type": "markdown",
   "metadata": {},
   "source": [
    "Both the Sequential and Functional APIs return a TF Keras model object. The only difference is how inputs are handled inside the object model! "
   ]
  },
  {
   "cell_type": "markdown",
   "metadata": {},
   "source": [
    "<a name='4-4'></a>\n",
    "### 4.4 - Train the Model"
   ]
  },
  {
   "cell_type": "code",
   "execution_count": 15,
   "metadata": {},
   "outputs": [
    {
     "name": "stdout",
     "output_type": "stream",
     "text": [
      "Epoch 1/100\n",
      "17/17 [==============================] - 2s 118ms/step - loss: 1.8035 - accuracy: 0.1611 - val_loss: 1.7888 - val_accuracy: 0.1583\n",
      "Epoch 2/100\n",
      "17/17 [==============================] - 2s 112ms/step - loss: 1.7899 - accuracy: 0.2028 - val_loss: 1.7865 - val_accuracy: 0.2750\n",
      "Epoch 3/100\n",
      "17/17 [==============================] - 2s 107ms/step - loss: 1.7876 - accuracy: 0.2111 - val_loss: 1.7836 - val_accuracy: 0.2667\n",
      "Epoch 4/100\n",
      "17/17 [==============================] - 2s 106ms/step - loss: 1.7856 - accuracy: 0.2222 - val_loss: 1.7812 - val_accuracy: 0.3500\n",
      "Epoch 5/100\n",
      "17/17 [==============================] - 2s 107ms/step - loss: 1.7833 - accuracy: 0.2426 - val_loss: 1.7786 - val_accuracy: 0.3250\n",
      "Epoch 6/100\n",
      "17/17 [==============================] - 2s 107ms/step - loss: 1.7807 - accuracy: 0.2713 - val_loss: 1.7754 - val_accuracy: 0.3583\n",
      "Epoch 7/100\n",
      "17/17 [==============================] - 2s 107ms/step - loss: 1.7778 - accuracy: 0.2824 - val_loss: 1.7710 - val_accuracy: 0.3750\n",
      "Epoch 8/100\n",
      "17/17 [==============================] - 2s 112ms/step - loss: 1.7740 - accuracy: 0.2861 - val_loss: 1.7668 - val_accuracy: 0.4083\n",
      "Epoch 9/100\n",
      "17/17 [==============================] - 2s 107ms/step - loss: 1.7699 - accuracy: 0.2963 - val_loss: 1.7611 - val_accuracy: 0.4083\n",
      "Epoch 10/100\n",
      "17/17 [==============================] - 2s 112ms/step - loss: 1.7644 - accuracy: 0.3130 - val_loss: 1.7541 - val_accuracy: 0.4000\n",
      "Epoch 11/100\n",
      "17/17 [==============================] - 2s 111ms/step - loss: 1.7557 - accuracy: 0.3407 - val_loss: 1.7440 - val_accuracy: 0.4000\n",
      "Epoch 12/100\n",
      "17/17 [==============================] - 2s 112ms/step - loss: 1.7444 - accuracy: 0.3583 - val_loss: 1.7310 - val_accuracy: 0.3917\n",
      "Epoch 13/100\n",
      "17/17 [==============================] - 2s 108ms/step - loss: 1.7267 - accuracy: 0.3731 - val_loss: 1.7065 - val_accuracy: 0.4250\n",
      "Epoch 14/100\n",
      "17/17 [==============================] - 2s 112ms/step - loss: 1.7017 - accuracy: 0.3796 - val_loss: 1.6794 - val_accuracy: 0.4833\n",
      "Epoch 15/100\n",
      "17/17 [==============================] - 2s 112ms/step - loss: 1.6694 - accuracy: 0.4398 - val_loss: 1.6489 - val_accuracy: 0.4750\n",
      "Epoch 16/100\n",
      "17/17 [==============================] - 2s 106ms/step - loss: 1.6338 - accuracy: 0.4574 - val_loss: 1.6122 - val_accuracy: 0.5000\n",
      "Epoch 17/100\n",
      "17/17 [==============================] - 2s 106ms/step - loss: 1.5949 - accuracy: 0.4796 - val_loss: 1.5767 - val_accuracy: 0.4917\n",
      "Epoch 18/100\n",
      "17/17 [==============================] - 2s 112ms/step - loss: 1.5526 - accuracy: 0.4843 - val_loss: 1.5359 - val_accuracy: 0.4417\n",
      "Epoch 19/100\n",
      "17/17 [==============================] - 2s 111ms/step - loss: 1.5023 - accuracy: 0.4926 - val_loss: 1.4892 - val_accuracy: 0.4583\n",
      "Epoch 20/100\n",
      "17/17 [==============================] - 2s 112ms/step - loss: 1.4507 - accuracy: 0.5019 - val_loss: 1.4440 - val_accuracy: 0.4417\n",
      "Epoch 21/100\n",
      "17/17 [==============================] - 2s 112ms/step - loss: 1.3991 - accuracy: 0.5231 - val_loss: 1.4017 - val_accuracy: 0.4583\n",
      "Epoch 22/100\n",
      "17/17 [==============================] - 2s 112ms/step - loss: 1.3499 - accuracy: 0.5380 - val_loss: 1.3617 - val_accuracy: 0.4833\n",
      "Epoch 23/100\n",
      "17/17 [==============================] - 2s 112ms/step - loss: 1.3035 - accuracy: 0.5481 - val_loss: 1.3266 - val_accuracy: 0.5000\n",
      "Epoch 24/100\n",
      "17/17 [==============================] - 2s 112ms/step - loss: 1.2608 - accuracy: 0.5620 - val_loss: 1.2922 - val_accuracy: 0.5167\n",
      "Epoch 25/100\n",
      "17/17 [==============================] - 2s 106ms/step - loss: 1.2210 - accuracy: 0.5722 - val_loss: 1.2615 - val_accuracy: 0.5167\n",
      "Epoch 26/100\n",
      "17/17 [==============================] - 2s 112ms/step - loss: 1.1850 - accuracy: 0.5861 - val_loss: 1.2344 - val_accuracy: 0.5333\n",
      "Epoch 27/100\n",
      "17/17 [==============================] - 2s 107ms/step - loss: 1.1514 - accuracy: 0.5972 - val_loss: 1.2073 - val_accuracy: 0.5583\n",
      "Epoch 28/100\n",
      "17/17 [==============================] - 2s 107ms/step - loss: 1.1212 - accuracy: 0.6009 - val_loss: 1.1863 - val_accuracy: 0.5667\n",
      "Epoch 29/100\n",
      "17/17 [==============================] - 2s 111ms/step - loss: 1.0944 - accuracy: 0.6120 - val_loss: 1.1647 - val_accuracy: 0.5583\n",
      "Epoch 30/100\n",
      "17/17 [==============================] - 2s 112ms/step - loss: 1.0690 - accuracy: 0.6259 - val_loss: 1.1458 - val_accuracy: 0.5583\n",
      "Epoch 31/100\n",
      "17/17 [==============================] - 2s 107ms/step - loss: 1.0460 - accuracy: 0.6361 - val_loss: 1.1285 - val_accuracy: 0.5667\n",
      "Epoch 32/100\n",
      "17/17 [==============================] - 2s 107ms/step - loss: 1.0251 - accuracy: 0.6370 - val_loss: 1.1132 - val_accuracy: 0.5583\n",
      "Epoch 33/100\n",
      "17/17 [==============================] - 2s 112ms/step - loss: 1.0062 - accuracy: 0.6454 - val_loss: 1.0987 - val_accuracy: 0.5667\n",
      "Epoch 34/100\n",
      "17/17 [==============================] - 2s 107ms/step - loss: 0.9878 - accuracy: 0.6537 - val_loss: 1.0815 - val_accuracy: 0.5667\n",
      "Epoch 35/100\n",
      "17/17 [==============================] - 2s 112ms/step - loss: 0.9687 - accuracy: 0.6639 - val_loss: 1.0650 - val_accuracy: 0.5750\n",
      "Epoch 36/100\n",
      "17/17 [==============================] - 2s 107ms/step - loss: 0.9519 - accuracy: 0.6731 - val_loss: 1.0508 - val_accuracy: 0.5833\n",
      "Epoch 37/100\n",
      "17/17 [==============================] - 2s 106ms/step - loss: 0.9373 - accuracy: 0.6750 - val_loss: 1.0415 - val_accuracy: 0.5833\n",
      "Epoch 38/100\n",
      "17/17 [==============================] - 2s 107ms/step - loss: 0.9234 - accuracy: 0.6778 - val_loss: 1.0311 - val_accuracy: 0.5917\n",
      "Epoch 39/100\n",
      "17/17 [==============================] - 2s 112ms/step - loss: 0.9114 - accuracy: 0.6806 - val_loss: 1.0231 - val_accuracy: 0.6000\n",
      "Epoch 40/100\n",
      "17/17 [==============================] - 2s 112ms/step - loss: 0.8991 - accuracy: 0.6843 - val_loss: 1.0129 - val_accuracy: 0.6000\n",
      "Epoch 41/100\n",
      "17/17 [==============================] - 2s 106ms/step - loss: 0.8880 - accuracy: 0.6870 - val_loss: 1.0045 - val_accuracy: 0.6000\n",
      "Epoch 42/100\n",
      "17/17 [==============================] - 2s 107ms/step - loss: 0.8778 - accuracy: 0.6880 - val_loss: 0.9944 - val_accuracy: 0.6167\n",
      "Epoch 43/100\n",
      "17/17 [==============================] - 2s 112ms/step - loss: 0.8677 - accuracy: 0.6852 - val_loss: 0.9867 - val_accuracy: 0.6167\n",
      "Epoch 44/100\n",
      "17/17 [==============================] - 2s 112ms/step - loss: 0.8580 - accuracy: 0.6889 - val_loss: 0.9777 - val_accuracy: 0.6167\n",
      "Epoch 45/100\n",
      "17/17 [==============================] - 2s 106ms/step - loss: 0.8480 - accuracy: 0.6972 - val_loss: 0.9686 - val_accuracy: 0.6167\n",
      "Epoch 46/100\n",
      "17/17 [==============================] - 2s 106ms/step - loss: 0.8394 - accuracy: 0.7009 - val_loss: 0.9625 - val_accuracy: 0.6167\n",
      "Epoch 47/100\n",
      "17/17 [==============================] - 2s 107ms/step - loss: 0.8299 - accuracy: 0.7037 - val_loss: 0.9499 - val_accuracy: 0.6167\n",
      "Epoch 48/100\n",
      "17/17 [==============================] - 2s 112ms/step - loss: 0.8218 - accuracy: 0.7056 - val_loss: 0.9458 - val_accuracy: 0.6250\n",
      "Epoch 49/100\n",
      "17/17 [==============================] - 2s 106ms/step - loss: 0.8141 - accuracy: 0.7065 - val_loss: 0.9364 - val_accuracy: 0.6333\n",
      "Epoch 50/100\n",
      "17/17 [==============================] - 2s 107ms/step - loss: 0.8056 - accuracy: 0.7139 - val_loss: 0.9288 - val_accuracy: 0.6250\n",
      "Epoch 51/100\n",
      "17/17 [==============================] - 2s 111ms/step - loss: 0.7981 - accuracy: 0.7139 - val_loss: 0.9232 - val_accuracy: 0.6333\n",
      "Epoch 52/100\n",
      "17/17 [==============================] - 2s 111ms/step - loss: 0.7907 - accuracy: 0.7157 - val_loss: 0.9151 - val_accuracy: 0.6333\n",
      "Epoch 53/100\n",
      "17/17 [==============================] - 2s 107ms/step - loss: 0.7822 - accuracy: 0.7176 - val_loss: 0.9093 - val_accuracy: 0.6333\n",
      "Epoch 54/100\n",
      "17/17 [==============================] - 2s 107ms/step - loss: 0.7743 - accuracy: 0.7259 - val_loss: 0.9059 - val_accuracy: 0.6250\n",
      "Epoch 55/100\n",
      "17/17 [==============================] - 2s 111ms/step - loss: 0.7675 - accuracy: 0.7241 - val_loss: 0.9006 - val_accuracy: 0.6333\n",
      "Epoch 56/100\n",
      "17/17 [==============================] - 2s 111ms/step - loss: 0.7600 - accuracy: 0.7259 - val_loss: 0.8927 - val_accuracy: 0.6583\n",
      "Epoch 57/100\n",
      "17/17 [==============================] - 2s 111ms/step - loss: 0.7526 - accuracy: 0.7296 - val_loss: 0.8845 - val_accuracy: 0.6583\n",
      "Epoch 58/100\n",
      "17/17 [==============================] - 2s 111ms/step - loss: 0.7457 - accuracy: 0.7398 - val_loss: 0.8824 - val_accuracy: 0.6583\n",
      "Epoch 59/100\n",
      "17/17 [==============================] - 2s 111ms/step - loss: 0.7394 - accuracy: 0.7361 - val_loss: 0.8754 - val_accuracy: 0.6667\n",
      "Epoch 60/100\n",
      "17/17 [==============================] - 2s 111ms/step - loss: 0.7313 - accuracy: 0.7389 - val_loss: 0.8689 - val_accuracy: 0.6833\n",
      "Epoch 61/100\n",
      "17/17 [==============================] - 2s 112ms/step - loss: 0.7209 - accuracy: 0.7407 - val_loss: 0.8615 - val_accuracy: 0.6750\n",
      "Epoch 62/100\n",
      "17/17 [==============================] - 2s 106ms/step - loss: 0.7144 - accuracy: 0.7426 - val_loss: 0.8569 - val_accuracy: 0.6750\n",
      "Epoch 63/100\n",
      "17/17 [==============================] - 2s 106ms/step - loss: 0.7085 - accuracy: 0.7463 - val_loss: 0.8475 - val_accuracy: 0.6917\n",
      "Epoch 64/100\n",
      "17/17 [==============================] - 2s 106ms/step - loss: 0.7007 - accuracy: 0.7472 - val_loss: 0.8438 - val_accuracy: 0.7083\n",
      "Epoch 65/100\n",
      "17/17 [==============================] - 2s 107ms/step - loss: 0.6950 - accuracy: 0.7528 - val_loss: 0.8371 - val_accuracy: 0.7250\n",
      "Epoch 66/100\n",
      "17/17 [==============================] - 2s 106ms/step - loss: 0.6882 - accuracy: 0.7546 - val_loss: 0.8326 - val_accuracy: 0.7167\n",
      "Epoch 67/100\n",
      "17/17 [==============================] - 2s 107ms/step - loss: 0.6809 - accuracy: 0.7565 - val_loss: 0.8272 - val_accuracy: 0.7250\n",
      "Epoch 68/100\n",
      "17/17 [==============================] - 2s 112ms/step - loss: 0.6747 - accuracy: 0.7583 - val_loss: 0.8236 - val_accuracy: 0.7167\n",
      "Epoch 69/100\n",
      "17/17 [==============================] - 2s 107ms/step - loss: 0.6679 - accuracy: 0.7556 - val_loss: 0.8181 - val_accuracy: 0.7250\n",
      "Epoch 70/100\n",
      "17/17 [==============================] - 2s 111ms/step - loss: 0.6623 - accuracy: 0.7593 - val_loss: 0.8156 - val_accuracy: 0.7167\n",
      "Epoch 71/100\n",
      "17/17 [==============================] - 2s 112ms/step - loss: 0.6555 - accuracy: 0.7648 - val_loss: 0.8119 - val_accuracy: 0.7250\n",
      "Epoch 72/100\n",
      "17/17 [==============================] - 2s 107ms/step - loss: 0.6489 - accuracy: 0.7667 - val_loss: 0.8071 - val_accuracy: 0.7250\n",
      "Epoch 73/100\n",
      "17/17 [==============================] - 2s 112ms/step - loss: 0.6434 - accuracy: 0.7704 - val_loss: 0.8047 - val_accuracy: 0.7333\n",
      "Epoch 74/100\n",
      "17/17 [==============================] - 2s 112ms/step - loss: 0.6362 - accuracy: 0.7713 - val_loss: 0.8011 - val_accuracy: 0.7333\n",
      "Epoch 75/100\n",
      "17/17 [==============================] - 2s 112ms/step - loss: 0.6313 - accuracy: 0.7731 - val_loss: 0.7992 - val_accuracy: 0.7417\n",
      "Epoch 76/100\n",
      "17/17 [==============================] - 2s 112ms/step - loss: 0.6256 - accuracy: 0.7778 - val_loss: 0.7935 - val_accuracy: 0.7417\n",
      "Epoch 77/100\n",
      "17/17 [==============================] - 2s 108ms/step - loss: 0.6201 - accuracy: 0.7731 - val_loss: 0.7936 - val_accuracy: 0.7417\n",
      "Epoch 78/100\n",
      "17/17 [==============================] - 2s 112ms/step - loss: 0.6140 - accuracy: 0.7880 - val_loss: 0.7902 - val_accuracy: 0.7333\n",
      "Epoch 79/100\n",
      "17/17 [==============================] - 2s 107ms/step - loss: 0.6085 - accuracy: 0.7880 - val_loss: 0.7908 - val_accuracy: 0.7333\n",
      "Epoch 80/100\n",
      "17/17 [==============================] - 2s 108ms/step - loss: 0.6039 - accuracy: 0.7898 - val_loss: 0.7879 - val_accuracy: 0.7417\n",
      "Epoch 81/100\n",
      "17/17 [==============================] - 2s 112ms/step - loss: 0.5998 - accuracy: 0.7852 - val_loss: 0.7901 - val_accuracy: 0.7333\n",
      "Epoch 82/100\n",
      "17/17 [==============================] - 2s 112ms/step - loss: 0.5937 - accuracy: 0.7935 - val_loss: 0.7817 - val_accuracy: 0.7417\n",
      "Epoch 83/100\n",
      "17/17 [==============================] - 2s 112ms/step - loss: 0.5890 - accuracy: 0.7917 - val_loss: 0.7818 - val_accuracy: 0.7417\n",
      "Epoch 84/100\n",
      "17/17 [==============================] - 2s 112ms/step - loss: 0.5848 - accuracy: 0.7963 - val_loss: 0.7820 - val_accuracy: 0.7417\n",
      "Epoch 85/100\n",
      "17/17 [==============================] - 2s 111ms/step - loss: 0.5787 - accuracy: 0.7972 - val_loss: 0.7792 - val_accuracy: 0.7417\n",
      "Epoch 86/100\n",
      "17/17 [==============================] - 2s 112ms/step - loss: 0.5748 - accuracy: 0.8046 - val_loss: 0.7784 - val_accuracy: 0.7500\n",
      "Epoch 87/100\n",
      "17/17 [==============================] - 2s 107ms/step - loss: 0.5697 - accuracy: 0.8037 - val_loss: 0.7766 - val_accuracy: 0.7417\n",
      "Epoch 88/100\n",
      "17/17 [==============================] - 2s 107ms/step - loss: 0.5653 - accuracy: 0.8074 - val_loss: 0.7720 - val_accuracy: 0.7500\n",
      "Epoch 89/100\n",
      "17/17 [==============================] - 2s 107ms/step - loss: 0.5607 - accuracy: 0.8074 - val_loss: 0.7736 - val_accuracy: 0.7500\n",
      "Epoch 90/100\n",
      "17/17 [==============================] - 2s 107ms/step - loss: 0.5570 - accuracy: 0.8093 - val_loss: 0.7694 - val_accuracy: 0.7583\n",
      "Epoch 91/100\n",
      "17/17 [==============================] - 2s 107ms/step - loss: 0.5519 - accuracy: 0.8093 - val_loss: 0.7720 - val_accuracy: 0.7583\n",
      "Epoch 92/100\n",
      "17/17 [==============================] - 2s 112ms/step - loss: 0.5482 - accuracy: 0.8130 - val_loss: 0.7668 - val_accuracy: 0.7667\n",
      "Epoch 93/100\n",
      "17/17 [==============================] - 2s 107ms/step - loss: 0.5441 - accuracy: 0.8111 - val_loss: 0.7685 - val_accuracy: 0.7667\n",
      "Epoch 94/100\n",
      "17/17 [==============================] - 2s 111ms/step - loss: 0.5408 - accuracy: 0.8167 - val_loss: 0.7656 - val_accuracy: 0.7667\n",
      "Epoch 95/100\n",
      "17/17 [==============================] - 2s 111ms/step - loss: 0.5367 - accuracy: 0.8194 - val_loss: 0.7662 - val_accuracy: 0.7667\n",
      "Epoch 96/100\n",
      "17/17 [==============================] - 2s 111ms/step - loss: 0.5330 - accuracy: 0.8204 - val_loss: 0.7632 - val_accuracy: 0.7667\n",
      "Epoch 97/100\n",
      "17/17 [==============================] - 2s 107ms/step - loss: 0.5291 - accuracy: 0.8231 - val_loss: 0.7659 - val_accuracy: 0.7667\n",
      "Epoch 98/100\n",
      "17/17 [==============================] - 2s 107ms/step - loss: 0.5261 - accuracy: 0.8269 - val_loss: 0.7618 - val_accuracy: 0.7667\n",
      "Epoch 99/100\n",
      "17/17 [==============================] - 2s 107ms/step - loss: 0.5221 - accuracy: 0.8269 - val_loss: 0.7637 - val_accuracy: 0.7667\n",
      "Epoch 100/100\n",
      "17/17 [==============================] - 2s 112ms/step - loss: 0.5188 - accuracy: 0.8287 - val_loss: 0.7614 - val_accuracy: 0.7667\n"
     ]
    }
   ],
   "source": [
    "train_dataset = tf.data.Dataset.from_tensor_slices((X_train, Y_train)).batch(64)\n",
    "test_dataset = tf.data.Dataset.from_tensor_slices((X_test, Y_test)).batch(64)\n",
    "history = conv_model.fit(train_dataset, epochs=100, validation_data=test_dataset)"
   ]
  },
  {
   "cell_type": "markdown",
   "metadata": {},
   "source": [
    "<a name='5'></a>\n",
    "## 5 - History Object \n",
    "\n",
    "The history object is an output of the `.fit()` operation, and provides a record of all the loss and metric values in memory. It's stored as a dictionary that you can retrieve at `history.history`: "
   ]
  },
  {
   "cell_type": "code",
   "execution_count": 16,
   "metadata": {},
   "outputs": [
    {
     "data": {
      "text/plain": [
       "{'loss': [1.8035376071929932,\n",
       "  1.7899092435836792,\n",
       "  1.7875587940216064,\n",
       "  1.7855803966522217,\n",
       "  1.7832539081573486,\n",
       "  1.780747652053833,\n",
       "  1.7778067588806152,\n",
       "  1.774046540260315,\n",
       "  1.769856572151184,\n",
       "  1.7644163370132446,\n",
       "  1.7557376623153687,\n",
       "  1.7443815469741821,\n",
       "  1.726731777191162,\n",
       "  1.7016587257385254,\n",
       "  1.6693791151046753,\n",
       "  1.6338151693344116,\n",
       "  1.5948683023452759,\n",
       "  1.5526070594787598,\n",
       "  1.5023274421691895,\n",
       "  1.4506850242614746,\n",
       "  1.3991291522979736,\n",
       "  1.349904179573059,\n",
       "  1.3035094738006592,\n",
       "  1.2607755661010742,\n",
       "  1.2210224866867065,\n",
       "  1.1849507093429565,\n",
       "  1.1514344215393066,\n",
       "  1.1212056875228882,\n",
       "  1.0943933725357056,\n",
       "  1.0690001249313354,\n",
       "  1.0460102558135986,\n",
       "  1.0251424312591553,\n",
       "  1.006191611289978,\n",
       "  0.9877642393112183,\n",
       "  0.9687215089797974,\n",
       "  0.9518768191337585,\n",
       "  0.937257707118988,\n",
       "  0.9233692288398743,\n",
       "  0.9114461541175842,\n",
       "  0.8991110324859619,\n",
       "  0.8880159258842468,\n",
       "  0.8778416514396667,\n",
       "  0.8676509857177734,\n",
       "  0.857952356338501,\n",
       "  0.8479820489883423,\n",
       "  0.8393940329551697,\n",
       "  0.8298890590667725,\n",
       "  0.8217859864234924,\n",
       "  0.8140824437141418,\n",
       "  0.8055979609489441,\n",
       "  0.7980740070343018,\n",
       "  0.7907331585884094,\n",
       "  0.7822448015213013,\n",
       "  0.7743242383003235,\n",
       "  0.7674921751022339,\n",
       "  0.7600100636482239,\n",
       "  0.7526163458824158,\n",
       "  0.7457449436187744,\n",
       "  0.7394124865531921,\n",
       "  0.7312633991241455,\n",
       "  0.7209320664405823,\n",
       "  0.7143765687942505,\n",
       "  0.70851731300354,\n",
       "  0.700665295124054,\n",
       "  0.6950318217277527,\n",
       "  0.6881876587867737,\n",
       "  0.6809272766113281,\n",
       "  0.6747060418128967,\n",
       "  0.6678686141967773,\n",
       "  0.6623387336730957,\n",
       "  0.6555354595184326,\n",
       "  0.6489237546920776,\n",
       "  0.643402636051178,\n",
       "  0.6362091898918152,\n",
       "  0.6313467025756836,\n",
       "  0.6256148219108582,\n",
       "  0.6201481819152832,\n",
       "  0.6140453219413757,\n",
       "  0.6084823608398438,\n",
       "  0.603866457939148,\n",
       "  0.5998236536979675,\n",
       "  0.5936986804008484,\n",
       "  0.588960587978363,\n",
       "  0.5848223567008972,\n",
       "  0.5787124633789062,\n",
       "  0.5747884511947632,\n",
       "  0.5696523189544678,\n",
       "  0.5652970671653748,\n",
       "  0.5606855750083923,\n",
       "  0.5569667220115662,\n",
       "  0.5519096255302429,\n",
       "  0.5482384562492371,\n",
       "  0.5441088676452637,\n",
       "  0.5408057570457458,\n",
       "  0.5366865396499634,\n",
       "  0.5329712629318237,\n",
       "  0.5291317701339722,\n",
       "  0.5260738134384155,\n",
       "  0.5221359133720398,\n",
       "  0.518825113773346],\n",
       " 'accuracy': [0.16111111640930176,\n",
       "  0.20277777314186096,\n",
       "  0.21111111342906952,\n",
       "  0.2222222238779068,\n",
       "  0.24259258806705475,\n",
       "  0.27129629254341125,\n",
       "  0.28240740299224854,\n",
       "  0.28611111640930176,\n",
       "  0.29629629850387573,\n",
       "  0.31296294927597046,\n",
       "  0.34074074029922485,\n",
       "  0.3583333194255829,\n",
       "  0.3731481432914734,\n",
       "  0.37962964177131653,\n",
       "  0.43981480598449707,\n",
       "  0.4574074149131775,\n",
       "  0.47962963581085205,\n",
       "  0.4842592477798462,\n",
       "  0.49259260296821594,\n",
       "  0.5018518567085266,\n",
       "  0.5231481194496155,\n",
       "  0.5379629731178284,\n",
       "  0.5481481552124023,\n",
       "  0.5620370507240295,\n",
       "  0.5722222328186035,\n",
       "  0.5861111283302307,\n",
       "  0.5972222089767456,\n",
       "  0.6009259223937988,\n",
       "  0.6120370626449585,\n",
       "  0.6259258985519409,\n",
       "  0.6361111402511597,\n",
       "  0.6370370388031006,\n",
       "  0.645370364189148,\n",
       "  0.6537036895751953,\n",
       "  0.6638888716697693,\n",
       "  0.6731481552124023,\n",
       "  0.675000011920929,\n",
       "  0.6777777671813965,\n",
       "  0.6805555820465088,\n",
       "  0.6842592358589172,\n",
       "  0.6870370507240295,\n",
       "  0.6879629492759705,\n",
       "  0.6851851940155029,\n",
       "  0.6888889074325562,\n",
       "  0.6972222328186035,\n",
       "  0.7009259462356567,\n",
       "  0.7037037014961243,\n",
       "  0.7055555582046509,\n",
       "  0.7064814567565918,\n",
       "  0.7138888835906982,\n",
       "  0.7138888835906982,\n",
       "  0.7157407402992249,\n",
       "  0.7175925970077515,\n",
       "  0.7259259223937988,\n",
       "  0.7240740656852722,\n",
       "  0.7259259223937988,\n",
       "  0.729629635810852,\n",
       "  0.739814817905426,\n",
       "  0.7361111044883728,\n",
       "  0.7388888597488403,\n",
       "  0.7407407164573669,\n",
       "  0.7425925731658936,\n",
       "  0.7462962865829468,\n",
       "  0.7472222447395325,\n",
       "  0.7527777552604675,\n",
       "  0.7546296119689941,\n",
       "  0.7564814686775208,\n",
       "  0.7583333253860474,\n",
       "  0.7555555701255798,\n",
       "  0.7592592835426331,\n",
       "  0.7648147940635681,\n",
       "  0.7666666507720947,\n",
       "  0.770370364189148,\n",
       "  0.7712963223457336,\n",
       "  0.7731481194496155,\n",
       "  0.7777777910232544,\n",
       "  0.7731481194496155,\n",
       "  0.7879629731178284,\n",
       "  0.7879629731178284,\n",
       "  0.789814829826355,\n",
       "  0.7851851582527161,\n",
       "  0.7935185432434082,\n",
       "  0.7916666865348816,\n",
       "  0.7962962985038757,\n",
       "  0.7972221970558167,\n",
       "  0.8046296238899231,\n",
       "  0.8037037253379822,\n",
       "  0.8074073791503906,\n",
       "  0.8074073791503906,\n",
       "  0.8092592358589172,\n",
       "  0.8092592358589172,\n",
       "  0.8129629492759705,\n",
       "  0.8111110925674438,\n",
       "  0.8166666626930237,\n",
       "  0.8194444179534912,\n",
       "  0.8203703761100769,\n",
       "  0.8231481313705444,\n",
       "  0.8268518447875977,\n",
       "  0.8268518447875977,\n",
       "  0.8287037014961243],\n",
       " 'val_loss': [1.7887712717056274,\n",
       "  1.7864513397216797,\n",
       "  1.783610463142395,\n",
       "  1.7811955213546753,\n",
       "  1.7786481380462646,\n",
       "  1.775366187095642,\n",
       "  1.771018385887146,\n",
       "  1.7668359279632568,\n",
       "  1.7611216306686401,\n",
       "  1.7541275024414062,\n",
       "  1.7439548969268799,\n",
       "  1.7309693098068237,\n",
       "  1.7064929008483887,\n",
       "  1.6794103384017944,\n",
       "  1.648949384689331,\n",
       "  1.6122153997421265,\n",
       "  1.5766619443893433,\n",
       "  1.535901427268982,\n",
       "  1.489193320274353,\n",
       "  1.44404935836792,\n",
       "  1.4016817808151245,\n",
       "  1.3616909980773926,\n",
       "  1.3265531063079834,\n",
       "  1.2922166585922241,\n",
       "  1.261502742767334,\n",
       "  1.234429955482483,\n",
       "  1.2073270082473755,\n",
       "  1.1863272190093994,\n",
       "  1.1647262573242188,\n",
       "  1.1457661390304565,\n",
       "  1.1284937858581543,\n",
       "  1.1131683588027954,\n",
       "  1.0987080335617065,\n",
       "  1.0814628601074219,\n",
       "  1.065036654472351,\n",
       "  1.050795316696167,\n",
       "  1.041515827178955,\n",
       "  1.031104564666748,\n",
       "  1.0231471061706543,\n",
       "  1.0129133462905884,\n",
       "  1.0044703483581543,\n",
       "  0.9944296479225159,\n",
       "  0.9866619110107422,\n",
       "  0.9777088165283203,\n",
       "  0.9685927033424377,\n",
       "  0.9625423550605774,\n",
       "  0.9499204158782959,\n",
       "  0.945806622505188,\n",
       "  0.9364224672317505,\n",
       "  0.9287669062614441,\n",
       "  0.9231746792793274,\n",
       "  0.9150930643081665,\n",
       "  0.9093027114868164,\n",
       "  0.9059252142906189,\n",
       "  0.9005592465400696,\n",
       "  0.8926549553871155,\n",
       "  0.8844731450080872,\n",
       "  0.8824313282966614,\n",
       "  0.8753500580787659,\n",
       "  0.8689281344413757,\n",
       "  0.8615289330482483,\n",
       "  0.8568705320358276,\n",
       "  0.8475127816200256,\n",
       "  0.843820333480835,\n",
       "  0.837146520614624,\n",
       "  0.8325824737548828,\n",
       "  0.8271531462669373,\n",
       "  0.8235641121864319,\n",
       "  0.8181168437004089,\n",
       "  0.8156322240829468,\n",
       "  0.8119450807571411,\n",
       "  0.8070538640022278,\n",
       "  0.8047305941581726,\n",
       "  0.8010690212249756,\n",
       "  0.7991696000099182,\n",
       "  0.7935274839401245,\n",
       "  0.7935701012611389,\n",
       "  0.7901991605758667,\n",
       "  0.7908031344413757,\n",
       "  0.7879482507705688,\n",
       "  0.7900752425193787,\n",
       "  0.7816684246063232,\n",
       "  0.7817845940589905,\n",
       "  0.7819932103157043,\n",
       "  0.7792338132858276,\n",
       "  0.7784377336502075,\n",
       "  0.7766203284263611,\n",
       "  0.7720037698745728,\n",
       "  0.7735942602157593,\n",
       "  0.7694227695465088,\n",
       "  0.7719506025314331,\n",
       "  0.7668206691741943,\n",
       "  0.7684787511825562,\n",
       "  0.7656181454658508,\n",
       "  0.7661844491958618,\n",
       "  0.7632097601890564,\n",
       "  0.7658919095993042,\n",
       "  0.7618141770362854,\n",
       "  0.7637112736701965,\n",
       "  0.7614190578460693],\n",
       " 'val_accuracy': [0.15833333134651184,\n",
       "  0.2750000059604645,\n",
       "  0.2666666805744171,\n",
       "  0.3499999940395355,\n",
       "  0.32499998807907104,\n",
       "  0.3583333194255829,\n",
       "  0.375,\n",
       "  0.40833333134651184,\n",
       "  0.40833333134651184,\n",
       "  0.4000000059604645,\n",
       "  0.4000000059604645,\n",
       "  0.3916666805744171,\n",
       "  0.42500001192092896,\n",
       "  0.4833333194255829,\n",
       "  0.4749999940395355,\n",
       "  0.5,\n",
       "  0.49166667461395264,\n",
       "  0.4416666626930237,\n",
       "  0.4583333432674408,\n",
       "  0.4416666626930237,\n",
       "  0.4583333432674408,\n",
       "  0.4833333194255829,\n",
       "  0.5,\n",
       "  0.5166666507720947,\n",
       "  0.5166666507720947,\n",
       "  0.5333333611488342,\n",
       "  0.5583333373069763,\n",
       "  0.5666666626930237,\n",
       "  0.5583333373069763,\n",
       "  0.5583333373069763,\n",
       "  0.5666666626930237,\n",
       "  0.5583333373069763,\n",
       "  0.5666666626930237,\n",
       "  0.5666666626930237,\n",
       "  0.574999988079071,\n",
       "  0.5833333134651184,\n",
       "  0.5833333134651184,\n",
       "  0.5916666388511658,\n",
       "  0.6000000238418579,\n",
       "  0.6000000238418579,\n",
       "  0.6000000238418579,\n",
       "  0.6166666746139526,\n",
       "  0.6166666746139526,\n",
       "  0.6166666746139526,\n",
       "  0.6166666746139526,\n",
       "  0.6166666746139526,\n",
       "  0.6166666746139526,\n",
       "  0.625,\n",
       "  0.6333333253860474,\n",
       "  0.625,\n",
       "  0.6333333253860474,\n",
       "  0.6333333253860474,\n",
       "  0.6333333253860474,\n",
       "  0.625,\n",
       "  0.6333333253860474,\n",
       "  0.6583333611488342,\n",
       "  0.6583333611488342,\n",
       "  0.6583333611488342,\n",
       "  0.6666666865348816,\n",
       "  0.6833333373069763,\n",
       "  0.675000011920929,\n",
       "  0.675000011920929,\n",
       "  0.6916666626930237,\n",
       "  0.7083333134651184,\n",
       "  0.7250000238418579,\n",
       "  0.7166666388511658,\n",
       "  0.7250000238418579,\n",
       "  0.7166666388511658,\n",
       "  0.7250000238418579,\n",
       "  0.7166666388511658,\n",
       "  0.7250000238418579,\n",
       "  0.7250000238418579,\n",
       "  0.7333333492279053,\n",
       "  0.7333333492279053,\n",
       "  0.7416666746139526,\n",
       "  0.7416666746139526,\n",
       "  0.7416666746139526,\n",
       "  0.7333333492279053,\n",
       "  0.7333333492279053,\n",
       "  0.7416666746139526,\n",
       "  0.7333333492279053,\n",
       "  0.7416666746139526,\n",
       "  0.7416666746139526,\n",
       "  0.7416666746139526,\n",
       "  0.7416666746139526,\n",
       "  0.75,\n",
       "  0.7416666746139526,\n",
       "  0.75,\n",
       "  0.75,\n",
       "  0.7583333253860474,\n",
       "  0.7583333253860474,\n",
       "  0.7666666507720947,\n",
       "  0.7666666507720947,\n",
       "  0.7666666507720947,\n",
       "  0.7666666507720947,\n",
       "  0.7666666507720947,\n",
       "  0.7666666507720947,\n",
       "  0.7666666507720947,\n",
       "  0.7666666507720947,\n",
       "  0.7666666507720947]}"
      ]
     },
     "execution_count": 16,
     "metadata": {},
     "output_type": "execute_result"
    }
   ],
   "source": [
    "history.history"
   ]
  },
  {
   "cell_type": "markdown",
   "metadata": {},
   "source": [
    "Now visualize the loss over time using `history.history`: "
   ]
  },
  {
   "cell_type": "code",
   "execution_count": 17,
   "metadata": {},
   "outputs": [
    {
     "data": {
      "text/plain": [
       "[Text(0, 0.5, 'Accuracy'), Text(0.5, 0, 'Epoch')]"
      ]
     },
     "execution_count": 17,
     "metadata": {},
     "output_type": "execute_result"
    },
    {
     "data": {
      "image/png": "[encoded data removed]",
      "text/plain": [
       "<Figure size 864x576 with 1 Axes>"
      ]
     },
     "metadata": {
      "needs_background": "light"
     },
     "output_type": "display_data"
    },
    {
     "data": {
      "image/png": "[encoded data removed]",
      "text/plain": [
       "<Figure size 864x576 with 1 Axes>"
      ]
     },
     "metadata": {
      "needs_background": "light"
     },
     "output_type": "display_data"
    }
   ],
   "source": [
    "# The history.history[\"loss\"] entry is a dictionary with as many values as epochs that the\n",
    "# model was trained on. \n",
    "df_loss_acc = pd.DataFrame(history.history)\n",
    "df_loss= df_loss_acc[['loss','val_loss']]\n",
    "df_loss.rename(columns={'loss':'train','val_loss':'validation'},inplace=True)\n",
    "df_acc= df_loss_acc[['accuracy','val_accuracy']]\n",
    "df_acc.rename(columns={'accuracy':'train','val_accuracy':'validation'},inplace=True)\n",
    "df_loss.plot(title='Model loss',figsize=(12,8)).set(xlabel='Epoch',ylabel='Loss')\n",
    "df_acc.plot(title='Model Accuracy',figsize=(12,8)).set(xlabel='Epoch',ylabel='Accuracy')"
   ]
  },
  {
   "cell_type": "markdown",
   "metadata": {},
   "source": [
    "**Congratulations**! You've finished the assignment and built two models: One that recognizes  smiles, and another that recognizes SIGN language with almost 80% accuracy on the test set. In addition to that, you now also understand the applications of two Keras APIs: Sequential and Functional. Nicely done! \n",
    "\n",
    "By now, you know a bit about how the Functional API works and may have glimpsed the possibilities. In your next assignment, you'll really get a feel for its power when you get the opportunity to build a very deep ConvNet, using ResNets! "
   ]
  },
  {
   "cell_type": "markdown",
   "metadata": {},
   "source": [
    "<a name='6'></a>\n",
    "## 6 - Bibliography\n",
    "\n",
    "You're always encouraged to read the official documentation. To that end, you can find the docs for the Sequential and Functional APIs here: \n",
    "\n",
    "https://www.tensorflow.org/guide/keras/sequential_model\n",
    "\n",
    "https://www.tensorflow.org/guide/keras/functional"
   ]
  }
 ],
 "metadata": {
  "coursera": {
   "course_slug": "convolutional-neural-networks",
   "graded_item_id": "bwbJV",
   "launcher_item_id": "0TkXB"
  },
  "kernelspec": {
   "display_name": "Python 3",
   "language": "python",
   "name": "python3"
  },
  "language_info": {
   "codemirror_mode": {
    "name": "ipython",
    "version": 3
   },
   "file_extension": ".py",
   "mimetype": "text/x-python",
   "name": "python",
   "nbconvert_exporter": "python",
   "pygments_lexer": "ipython3",
   "version": "3.7.6"
  }
 },
 "nbformat": 4,
 "nbformat_minor": 2
}
